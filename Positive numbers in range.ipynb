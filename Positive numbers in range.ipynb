{
 "cells": [
  {
   "cell_type": "code",
   "execution_count": 5,
   "metadata": {},
   "outputs": [
    {
     "name": "stdout",
     "output_type": "stream",
     "text": [
      "Enter number of elements : 5\n",
      "enter the elements12 -7 5 64 -14\n",
      "12\n",
      "5\n",
      "64\n"
     ]
    }
   ],
   "source": [
    "n = int(input(\"Enter number of elements : \"))\n",
    "\n",
    "a = list(map(int,input(\"enter the elements\").strip().split()))[:n]\n",
    "for i in a:\n",
    "    if i>0:\n",
    "        print(i)\n",
    "\n"
   ]
  },
  {
   "cell_type": "code",
   "execution_count": 6,
   "metadata": {},
   "outputs": [
    {
     "name": "stdout",
     "output_type": "stream",
     "text": [
      "Enter number of elements : 5\n",
      "enter the elements12 14 -95 3 -6\n",
      "[12, 14, 3]\n"
     ]
    }
   ],
   "source": [
    "n = int(input(\"Enter number of elements : \"))\n",
    "\n",
    "a = list(map(int,input(\"enter the elements\").strip().split()))[:n]\n",
    "b=[]\n",
    "for i in a:\n",
    "    if i>0:\n",
    "        b.append(i)\n",
    "print(b)"
   ]
  },
  {
   "cell_type": "code",
   "execution_count": null,
   "metadata": {},
   "outputs": [],
   "source": []
  }
 ],
 "metadata": {
  "kernelspec": {
   "display_name": "Python 3",
   "language": "python",
   "name": "python3"
  },
  "language_info": {
   "codemirror_mode": {
    "name": "ipython",
    "version": 3
   },
   "file_extension": ".py",
   "mimetype": "text/x-python",
   "name": "python",
   "nbconvert_exporter": "python",
   "pygments_lexer": "ipython3",
   "version": "3.8.5"
  }
 },
 "nbformat": 4,
 "nbformat_minor": 4
}
